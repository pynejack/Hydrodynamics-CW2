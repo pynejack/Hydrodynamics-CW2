{
 "cells": [
  {
   "cell_type": "code",
   "execution_count": 509,
   "metadata": {},
   "outputs": [],
   "source": [
    "import numpy as np\n",
    "import scipy\n",
    "from scipy import integrate\n",
    "from scipy import optimize\n",
    "from matplotlib import pyplot as plt\n",
    "from scipy.optimize import fsolve"
   ]
  },
  {
   "cell_type": "markdown",
   "metadata": {},
   "source": [
    "# Given Offsets"
   ]
  },
  {
   "cell_type": "code",
   "execution_count": 510,
   "metadata": {},
   "outputs": [],
   "source": [
    "# y = beam\n",
    "# z = draught\n",
    "  # Section 1\n",
    "y1 = np.array([0.0, 0.5, 1.0, 1.5, 2.0, 2.5, 3.0, 3.5, 4.0, 4.5, 5.0])\n",
    "z1 = np.array([-10.0, -9.0, -8.0, -7.0, -6.0, -5.0, -4.0, -3.0, -2.0, -1.0, 0.0])\n",
    "y_1 = y1 * -1\n",
    "  # Section 2\n",
    "y2 = np.array([0.0, 0.8, 1.2, 1.2, 1.4, 2.2, 3.5, 5.0, 6.5, 7.4])\n",
    "z2 = np.array([-10.0, -9.7, -8.4, -6.1, -4.3, -2.1, -1.2, -0.55, -0.15, 0.0])\n",
    "y_2 = y2 * -1"
   ]
  },
  {
   "cell_type": "markdown",
   "metadata": {},
   "source": [
    "# Finding area of each section"
   ]
  },
  {
   "cell_type": "code",
   "execution_count": 511,
   "metadata": {},
   "outputs": [],
   "source": [
    "area1 = scipy.integrate.simps(y1,z1) # simpsons rule\n",
    "area2 = scipy.integrate.simps(y2,z2)\n",
    "full_area1 = 2 * area1\n",
    "full_area2 = 2 * area2\n",
    "area_1 = 2*np.trapz(y1,z1) # check using trapezium rule\n",
    "area_2 = 2*np.trapz(y2,z2)"
   ]
  },
  {
   "cell_type": "code",
   "execution_count": 512,
   "metadata": {},
   "outputs": [
    {
     "name": "stdout",
     "output_type": "stream",
     "text": [
      "False, error 1 = 0.0 % and error 2 = -1.0055737937460059 %\n",
      "But acceptable, area1 = 25.0  and area2 = 18.959349747474743\n"
     ]
    }
   ],
   "source": [
    "if full_area2==area_2 and full_area1==area_1:\n",
    "    print('True, area1 =', area1, 'area2 =', area2)\n",
    "elif full_area2!=area_2 and full_area1==area_1:\n",
    "    err1 = ((( full_area1 - area_1 ) / full_area1 ) * 100 )\n",
    "    err2 = ((( full_area2 - area_2 ) / full_area2 ) * 100 )\n",
    "    print('False, error 1 =',err1, '% and error 2 =', err2, '%')\n",
    "    if abs(err1)<2 and abs(err2)<2:\n",
    "        print('But acceptable, area1 =', area1, ' and area2 =', area2)"
   ]
  },
  {
   "cell_type": "markdown",
   "metadata": {},
   "source": [
    "# Finding section properties"
   ]
  },
  {
   "cell_type": "code",
   "execution_count": 513,
   "metadata": {},
   "outputs": [
    {
     "name": "stdout",
     "output_type": "stream",
     "text": [
      "Section 1:\n",
      "B= 10.0 m, T= 10.0 m, B/T= 1.0 , Cm= 0.5 , Area= 50.0\n",
      "Section 2:\n",
      "B= 14.8 m, T= 10.0 m, B/T= 1.48 , Cm= 0.25620742901992893 , Area= 37.918699494949486\n"
     ]
    }
   ],
   "source": [
    "#Section 1\n",
    "T1 = np.absolute(np.min(z1))\n",
    "B1 = np.max(2*y1)\n",
    "BoT1 = B1/T1\n",
    "Cm1 = (full_area1/(B1*T1))\n",
    "#Section 2\n",
    "T2 = np.absolute(np.min(z2))\n",
    "B2 = np.max(2*y2)\n",
    "BoT2 = B2/T2\n",
    "Cm2 = (full_area2/(B2*T2))\n",
    "print('Section 1:')\n",
    "print('B=',B1, 'm, T=', T1, 'm, B/T=', BoT1, ', Cm=', Cm1, ', Area=', full_area1)\n",
    "print('Section 2:')\n",
    "print('B=',B2, 'm, T=', T2, 'm, B/T=', BoT2, ', Cm=', Cm2, ', Area=', full_area2)"
   ]
  },
  {
   "cell_type": "markdown",
   "metadata": {},
   "source": [
    "# Section 1 Lewis Transform"
   ]
  },
  {
   "cell_type": "code",
   "execution_count": 514,
   "metadata": {},
   "outputs": [
    {
     "name": "stdout",
     "output_type": "stream",
     "text": [
      "Section 1:\n",
      "a= -0.3882670972423619 , b= 0.1648012917276638\n",
      "BoT_Lewis= 1.0000000000003724\n",
      "Cm_Lewis= 0.49999999999997247\n",
      "Lewis Area= 1.206010710409358\n",
      "Area= 50.000000000015866\n"
     ]
    },
    {
     "data": {
      "text/plain": [
       "0.15530683889700256"
      ]
     },
     "execution_count": 514,
     "metadata": {},
     "output_type": "execute_result"
    }
   ],
   "source": [
    "def BoT_Lewis1(a,b):\n",
    "    return (2*(1+a+b)/(1-a+b)) # = B/T   # adding a '-' at the start will find other values of a and b\n",
    "\n",
    "def Cm_Lewis1(a,b):\n",
    "    A = (np.pi/2) * (1 - (a**2)-3*(b**2))\n",
    "    return A/(2*(1+a+b)*(1-a+b)) # = Cm\n",
    "\n",
    "def error1(a,b,Cm,BoT):\n",
    "    Cm_error1 = Cm-Cm_Lewis1(a,b)\n",
    "    BoT_error1 = BoT - BoT_Lewis1(a,b)\n",
    "    return (Cm_error1,BoT_error1)\n",
    "\n",
    "def f1(x):\n",
    "    return error1(a=x[0],b=x[1],Cm=Cm1,BoT=BoT1)\n",
    "\n",
    "x0 = (0,0)\n",
    "\n",
    "a1,b1 = fsolve(f1,x0)\n",
    "\n",
    "T0_T1 = (1-a1+b1)/T1                                # Scale factor\n",
    "Lewis_area = (np.pi/2) * (1 - (a1**2)-3*(b1**2))\n",
    "Area1 = Lewis_area/T0_T1**2\n",
    "\n",
    "print('Section 1:') \n",
    "print('a=',a1, ', b=', b1)\n",
    "print('BoT_Lewis=', BoT_Lewis1(a1,b1))\n",
    "print('Cm_Lewis=', Cm_Lewis1(a1,b1))\n",
    "print('Lewis Area=', Lewis_area)\n",
    "print('Area=', Area1)\n",
    "T0_T1"
   ]
  },
  {
   "cell_type": "markdown",
   "metadata": {},
   "source": [
    "# Section 2 Lewis Transform"
   ]
  },
  {
   "cell_type": "code",
   "execution_count": 515,
   "metadata": {},
   "outputs": [
    {
     "name": "stdout",
     "output_type": "stream",
     "text": [
      "Section 2:\n",
      "a= -0.20224428300836483 , b= 0.35348097090214087\n",
      "BoT_Lewis= 1.4800000000000024\n",
      "Cm_Lewis= 0.2562074290199472\n",
      "Lewis Area= 0.9177391042189121\n",
      "Area= 37.91869949495224\n"
     ]
    },
    {
     "data": {
      "text/plain": [
       "0.15557252539105057"
      ]
     },
     "execution_count": 515,
     "metadata": {},
     "output_type": "execute_result"
    }
   ],
   "source": [
    "def BoT_Lewis2(a,b):\n",
    "    return (2*(1+a+b)/(1-a+b)) # = B/T\n",
    "\n",
    "def Cm_Lewis2(a,b):\n",
    "    A = (np.pi/2) * (1 - (a**2)-3*(b**2))\n",
    "    B = 2*(1+a+b)\n",
    "    T = (1-a+b)\n",
    "    return A/(B*T) # = Cm\n",
    "\n",
    "def error2(a,b,Cm,BoT):\n",
    "    Cm_error2 = Cm-Cm_Lewis2(a,b)\n",
    "    BoT_error2 = BoT - BoT_Lewis2(a,b)\n",
    "    return (Cm_error2,BoT_error2)\n",
    "\n",
    "def f2(x):\n",
    "    return error2(a=x[0],b=x[1],Cm=Cm2,BoT=BoT2)\n",
    "\n",
    "x0 = (0,0)\n",
    "\n",
    "a2,b2 = fsolve(f2,x0)\n",
    "\n",
    "T0_T2 = (1-a2+b2)/T2                                # Scale factor\n",
    "Lewis_area = (np.pi/2) * (1 - (a2**2)-3*(b2**2))\n",
    "Area2 = Lewis_area/(T0_T2**2)\n",
    "\n",
    "print('Section 2:') \n",
    "print('a=',a2, ', b=', b2)\n",
    "print('BoT_Lewis=', BoT_Lewis2(a2,b2))\n",
    "print('Cm_Lewis=', Cm_Lewis2(a2,b2))\n",
    "print('Lewis Area=', Lewis_area)\n",
    "print('Area=', Area2)\n",
    "T0_T2"
   ]
  },
  {
   "cell_type": "markdown",
   "metadata": {},
   "source": [
    "# Plotting the transformation"
   ]
  },
  {
   "cell_type": "code",
   "execution_count": 540,
   "metadata": {},
   "outputs": [],
   "source": [
    "# Section 1\n",
    "def zeta(theta):\n",
    "    return np.exp(1j*theta)+a1*np.exp(-1j*theta)+b1*np.exp(-3j*theta)\n",
    "\n",
    "theta1 = np.arange(-np.pi/2, 0, 0.01)\n",
    "z = []\n",
    "\n",
    "for i in theta1:\n",
    "    z.append(zeta(i))\n",
    "    \n",
    "Y_real1 = [np.real(i) for i in z]\n",
    "Z_imaginary1 = [np.imag(i) for i in z]\n",
    "\n",
    "sf1 = abs(T1/np.min(Z_imaginary1))\n",
    "B1plt = np.array([i*sf1 for i in Y_real1])\n",
    "T1plt = [i*sf1 for i in Z_imaginary1]"
   ]
  },
  {
   "cell_type": "code",
   "execution_count": 541,
   "metadata": {},
   "outputs": [],
   "source": [
    "# Section 2\n",
    "def zeta(theta):\n",
    "    return np.exp(1j*theta)+a2*np.exp(-1j*theta)+b2*np.exp(-3j*theta)\n",
    "\n",
    "theta1 = np.arange(-np.pi/2, 0, 0.01)\n",
    "z = []\n",
    "\n",
    "for i in theta1:\n",
    "    z.append(zeta(i))\n",
    "    \n",
    "Y_real2 = [np.real(i) for i in z]\n",
    "Z_imaginary2 = [np.imag(i) for i in z]\n",
    "\n",
    "sf2 = abs(T2/np.min(Z_imaginary2))\n",
    "B2plt = np.array([i*sf2 for i in Y_real2])\n",
    "T2plt = [i*sf2 for i in Z_imaginary2]"
   ]
  },
  {
   "cell_type": "code",
   "execution_count": 543,
   "metadata": {},
   "outputs": [
    {
     "data": {
      "image/png": "[encoded data removed]",
      "text/plain": [
       "<Figure size 1008x432 with 6 Axes>"
      ]
     },
     "metadata": {
      "needs_background": "light"
     },
     "output_type": "display_data"
    }
   ],
   "source": [
    "fig, axes = plt.subplots(nrows=2, ncols=3, figsize=(14, 6))\n",
    "\n",
    "ax1 = plt.subplot(axes[0, 0])\n",
    "ax2 = plt.subplot(axes[0, 1])\n",
    "ax3 = plt.subplot(axes[0, 2])\n",
    "ax4 = plt.subplot(axes[1, 0])\n",
    "ax5 = plt.subplot(axes[1, 1])\n",
    "ax6 = plt.subplot(axes[1, 2])\n",
    "\n",
    "# Section 1 seperate plots\n",
    "ax1.plot(y1, z1, color='black')\n",
    "ax1.plot(y_1, z1, color='black')\n",
    "ax2.plot(B1plt, T1plt, color='black')\n",
    "ax2.plot(-B1plt, T1plt, color='black')\n",
    "# Section 1\n",
    "ax3.plot(y1, z1, color='black')\n",
    "ax3.plot(y_1, z1, color='black')\n",
    "ax3.plot(B1plt, T1plt, color='black')\n",
    "ax3.plot(-B1plt, T1plt, color='black')\n",
    "# Section 2 seperate plots\n",
    "ax4.plot(y2, z2, color='black')\n",
    "ax4.plot(y_2, z2, color='black')\n",
    "ax5.plot(B2plt, T2plt, color='black')\n",
    "ax5.plot(-B2plt, T2plt, color='black')\n",
    "# Section 2\n",
    "ax6.plot(y2, z2, color='black')\n",
    "ax6.plot(y_2, z2, color='black')\n",
    "ax6.plot(B2plt, T2plt, color='black')\n",
    "ax6.plot(-B2plt, T2plt, color='black')\n",
    "\n",
    "ax1.set_ylabel('Section 1, Draught (m)')\n",
    "ax4.set_ylabel('Section2, Draught (m)')\n",
    "ax1.title.set_text('Original')\n",
    "ax2.title.set_text('Transformed')\n",
    "ax3.title.set_text('Overlap')\n",
    "ax4.set_xlabel('Beam (m)')\n",
    "ax5.set_xlabel('Beam (m)')\n",
    "ax6.set_xlabel('Beam (m)')\n",
    "\n",
    "fig.tight_layout()"
   ]
  },
  {
   "cell_type": "markdown",
   "metadata": {},
   "source": [
    "# Quantify the error"
   ]
  },
  {
   "cell_type": "code",
   "execution_count": 519,
   "metadata": {},
   "outputs": [],
   "source": [
    "imag1 = np.array(Z_imaginary1) / T0_T1\n",
    "real1 = np.array(Y_real1) / T0_T1\n",
    "imag2 = np.array(Z_imaginary2) / T0_T2\n",
    "real2 = np.array(Y_real2) / T0_T2\n",
    "\n",
    "intp1 = np.interp(z1, imag1, real1)\n",
    "intp2 = np.interp(z2, imag2, real2)"
   ]
  },
  {
   "cell_type": "code",
   "execution_count": 520,
   "metadata": {},
   "outputs": [],
   "source": [
    "def intp_error(x_data, x_lewis):\n",
    "    return ((x_lewis - x_data)/x_data) * 100"
   ]
  },
  {
   "cell_type": "code",
   "execution_count": 535,
   "metadata": {},
   "outputs": [
    {
     "name": "stderr",
     "output_type": "stream",
     "text": [
      "<ipython-input-520-07f4f0e4e3bf>:2: RuntimeWarning: divide by zero encountered in true_divide\n",
      "  return ((x_lewis - x_data)/x_data) * 100\n"
     ]
    },
    {
     "data": {
      "text/plain": [
       "9.191370383274984"
      ]
     },
     "execution_count": 535,
     "metadata": {},
     "output_type": "execute_result"
    }
   ],
   "source": [
    "intp_error1 = intp_error(y1, intp1)\n",
    "intp_er1 = abs(intp_error1)\n",
    "index = [0]\n",
    "omit_inf1 = np.delete(intp_er1, index)\n",
    "er1 = np.mean(omit_inf1)\n",
    "er1"
   ]
  },
  {
   "cell_type": "code",
   "execution_count": 534,
   "metadata": {},
   "outputs": [
    {
     "name": "stderr",
     "output_type": "stream",
     "text": [
      "<ipython-input-520-07f4f0e4e3bf>:2: RuntimeWarning: divide by zero encountered in true_divide\n",
      "  return ((x_lewis - x_data)/x_data) * 100\n"
     ]
    },
    {
     "data": {
      "text/plain": [
       "51.94315741344339"
      ]
     },
     "execution_count": 534,
     "metadata": {},
     "output_type": "execute_result"
    }
   ],
   "source": [
    "intp_error2 = intp_error(y2, intp2)\n",
    "intp_er2 = abs(intp_error2)\n",
    "index = [0]\n",
    "omit_inf2 = np.delete(intp_er2, index)\n",
    "er2 = np.mean(omit_inf2)\n",
    "er2"
   ]
  },
  {
   "cell_type": "markdown",
   "metadata": {},
   "source": [
    "# Determine the added mass, $ m_{yy} $, and coefficient, $c_{22}$"
   ]
  },
  {
   "cell_type": "code",
   "execution_count": 523,
   "metadata": {},
   "outputs": [
    {
     "name": "stdout",
     "output_type": "stream",
     "text": [
      "myy1 = 30418.46969483873 kg/m,    c22,1 = 0.7557072879179867\n",
      "myy2 = 67273.03405531216 kg/m,   c22,2 = 0.7630163307161962\n"
     ]
    }
   ],
   "source": [
    "pi = np.pi\n",
    "rho = 1025\n",
    "\n",
    "m_yy1 = pi*rho*0.5 * ((1+a1)**2 + 3*b1**2) * sf1**2\n",
    "m_yy2 = pi*rho*0.5 * ((1+a2)**2 + 3*b2**2) * sf2**2\n",
    "\n",
    "c_22_1 = m_yy1/(rho*pi*B1**2/8)\n",
    "c_22_2 = m_yy2/(rho*pi*B2**2/8)\n",
    "\n",
    "print('myy1 =',m_yy1, 'kg/m,    c22,1 =', c_22_1)\n",
    "print('myy2 =',m_yy2, 'kg/m,   c22,2 =', c_22_2)"
   ]
  },
  {
   "cell_type": "markdown",
   "metadata": {},
   "source": [
    "# Verification using an Ellipse"
   ]
  },
  {
   "cell_type": "code",
   "execution_count": 524,
   "metadata": {},
   "outputs": [],
   "source": [
    "bb_ell = 2 # a, half beam\n",
    "T_ell = 1 # b, draught\n",
    "B_ell = 2 * bb_ell\n",
    "t = np.linspace(-pi, pi)\n",
    "y_ell = bb_ell*np.cos(t)\n",
    "z_ell = T_ell*np.sin(t)"
   ]
  },
  {
   "cell_type": "code",
   "execution_count": 525,
   "metadata": {},
   "outputs": [
    {
     "name": "stdout",
     "output_type": "stream",
     "text": [
      "area ellipse = 3.141592653589793 , B/T ellipse = 4.0 , Cm ellipse = 0.7853981633974483\n"
     ]
    }
   ],
   "source": [
    "# Check values for half an ellipse\n",
    "area_ell = 0.5 * np.pi * bb_ell * T_ell\n",
    "BoT_ell = B_ell / T_ell\n",
    "Cm_ell = area_ell / (B_ell * T_ell)\n",
    "myy_el = 0.5* pi*rho*bb_ell**2\n",
    "print('area ellipse =', area_ell, ', B/T ellipse =', BoT_ell, ', Cm ellipse =', Cm_ell)"
   ]
  },
  {
   "cell_type": "code",
   "execution_count": 526,
   "metadata": {},
   "outputs": [
    {
     "name": "stdout",
     "output_type": "stream",
     "text": [
      "Ellipse verification:\n",
      "a= 0.33333333333332865 , b= -5.8079343867336e-17\n",
      "BoT_Lewis= 3.9999999999999583\n",
      "Cm_Lewis= 0.7853981633974483\n",
      "Lewis Area= 1.3962634015954685\n",
      "Area= 3.1415926535897603\n"
     ]
    }
   ],
   "source": [
    "def BoT_Lewis_ell(a,b):\n",
    "    return (2*(1+a+b)/(1-a+b)) # = B/T   # adding a '-' at the start will find other values of a and b\n",
    "\n",
    "def Cm_Lewis_ell(a,b):\n",
    "    A = (np.pi/2) * (1 - (a**2)-3*(b**2))\n",
    "    return A/(2*(1+a+b)*(1-a+b)) # = Cm\n",
    "\n",
    "def error_ell(a,b,Cm,BoT):\n",
    "    Cm_error_ell = Cm-Cm_Lewis_ell(a,b)\n",
    "    BoT_error_ell = BoT - BoT_Lewis_ell(a,b)\n",
    "    return (Cm_error_ell,BoT_error_ell)\n",
    "\n",
    "def f_ell(x):\n",
    "    return error_ell(a=x[0],b=x[1],Cm=Cm_ell,BoT=BoT_ell)\n",
    "\n",
    "x0 = (0,0)\n",
    "\n",
    "a_ell,b_ell = fsolve(f_ell,x0)\n",
    "\n",
    "T0_T_ell = (1-a_ell+b_ell)/T_ell                                # Scale factor\n",
    "Lewis_area = (np.pi/2) * (1 - (a_ell**2)-3*(b_ell**2))\n",
    "Area_ell = Lewis_area/T0_T_ell**2\n",
    "\n",
    "print('Ellipse verification:') \n",
    "print('a=',a_ell, ', b=', b_ell)\n",
    "print('BoT_Lewis=', BoT_Lewis_ell(a_ell,b_ell))\n",
    "print('Cm_Lewis=', Cm_Lewis_ell(a_ell,b_ell))\n",
    "print('Lewis Area=', Lewis_area)\n",
    "print('Area=', Area_ell)"
   ]
  },
  {
   "cell_type": "code",
   "execution_count": 527,
   "metadata": {},
   "outputs": [],
   "source": [
    "def zeta(theta):\n",
    "    return np.exp(1j*theta)+a_ell*np.exp(-1j*theta)+b_ell*np.exp(-3j*theta)\n",
    "\n",
    "theta_ell = np.arange(-np.pi, 0, 0.01)\n",
    "z = []\n",
    "\n",
    "for i in theta_ell:\n",
    "    z.append(zeta(i))\n",
    "    \n",
    "Y_real_ell = [np.real(i) for i in z]\n",
    "Z_imaginary_ell = [np.imag(i) for i in z]\n",
    "\n",
    "sf_ell = abs(T_ell/np.min(Z_imaginary_ell))\n",
    "B_ell_plt = [i*sf_ell for i in Y_real_ell]\n",
    "T_ell_plt = [i*sf_ell for i in Z_imaginary_ell]\n",
    "T_ell_plt_mir = -np.array(T_ell_plt) # mirrors half ellipse"
   ]
  },
  {
   "cell_type": "code",
   "execution_count": 528,
   "metadata": {},
   "outputs": [
    {
     "data": {
      "image/png": "[encoded data removed]",
      "text/plain": [
       "<Figure size 1008x216 with 3 Axes>"
      ]
     },
     "metadata": {
      "needs_background": "light"
     },
     "output_type": "display_data"
    }
   ],
   "source": [
    "fig, axes = plt.subplots(nrows=1, ncols=3, figsize=(14,3))\n",
    "\n",
    "ax1 = plt.subplot(axes[0])\n",
    "ax2 = plt.subplot(axes[1])\n",
    "ax3 = plt.subplot(axes[2])\n",
    "\n",
    "ax1.plot(y_ell, z_ell, color='black')\n",
    "ax2.plot(B_ell_plt, T_ell_plt, color='cyan', linestyle='--')\n",
    "ax2.plot(B_ell_plt, T_ell_plt_mir, color='cyan', linestyle='--')\n",
    "ax3.plot(y_ell, z_ell, color='black')\n",
    "ax3.plot(B_ell_plt, T_ell_plt, color='cyan', linestyle='--')\n",
    "ax3.plot(B_ell_plt, T_ell_plt_mir, color='cyan', linestyle='--')\n",
    "\n",
    "ax1.set_xlabel('Original')\n",
    "ax2.set_xlabel('Transformed')\n",
    "ax3.set_xlabel('Overlap')\n",
    "\n",
    "ax1.set_ylabel('Ellipse, Draught (m)')\n",
    "ax1.title.set_text('Original')\n",
    "ax2.title.set_text('Transformed')\n",
    "ax3.title.set_text('Overlap')\n",
    "ax1.set_xlabel('Beam (m)')\n",
    "ax2.set_xlabel('Beam (m)')\n",
    "ax3.set_xlabel('Beam (m)')\n",
    "\n",
    "fig.tight_layout()"
   ]
  },
  {
   "cell_type": "code",
   "execution_count": 529,
   "metadata": {},
   "outputs": [
    {
     "name": "stdout",
     "output_type": "stream",
     "text": [
      "myy_ell = 6440.269023866862 kg/m,    c_22_ell = 1.0000006341366114\n"
     ]
    }
   ],
   "source": [
    "myy_ell = pi*rho*0.5 * ((1+a_ell)**2 + 3*b_ell**2) * sf_ell **2 # for half ellipse\n",
    "\n",
    "c_22_ell = myy_ell/(rho*pi*B_ell**2/8)\n",
    "\n",
    "print('myy_ell =',myy_ell, 'kg/m,    c_22_ell =', c_22_ell)"
   ]
  },
  {
   "cell_type": "code",
   "execution_count": 530,
   "metadata": {},
   "outputs": [
    {
     "name": "stdout",
     "output_type": "stream",
     "text": [
      "Known values:\n",
      "area = 3.141592653589793\n",
      "myy = 6440.264939859076\n",
      "\n",
      "Lewis values:\n",
      "area = 3.1415926535897603\n",
      "myy = 6440.269023866862\n"
     ]
    }
   ],
   "source": [
    "print('Known values:')\n",
    "print('area =', area_ell)\n",
    "print('myy =', myy_el)\n",
    "print()\n",
    "print('Lewis values:')\n",
    "print('area =', Area_ell)\n",
    "print('myy =', myy_ell)"
   ]
  },
  {
   "cell_type": "code",
   "execution_count": 531,
   "metadata": {},
   "outputs": [
    {
     "name": "stdout",
     "output_type": "stream",
     "text": [
      "False, area error is 1.04604909523689e-12 % and myy error is -6.341366115322559e-05 %\n",
      "But acceptable, area = 3.1415926535897603  and myy = 6440.269023866862\n"
     ]
    }
   ],
   "source": [
    "if area_ell==Area_ell and myy_el==myy_ell:\n",
    "    print('True, area =', Area_ell, ' and myy =', myy_ell)\n",
    "elif area_ell!=Area_ell and myy_el!=myy_ell:\n",
    "    err_area = ((( area_ell-Area_ell ) / area_ell ) * 100 )\n",
    "    err_myy = ((( myy_el - myy_ell ) / myy_el ) * 100 )\n",
    "    print('False, area error is',err_area, '% and myy error is', err_myy, '%')\n",
    "    if err_area<2 and err_myy<2:\n",
    "        print('But acceptable, area =', Area_ell, ' and myy =', myy_ell)"
   ]
  }
 ],
 "metadata": {
  "kernelspec": {
   "display_name": "Python 3",
   "language": "python",
   "name": "python3"
  },
  "language_info": {
   "codemirror_mode": {
    "name": "ipython",
    "version": 3
   },
   "file_extension": ".py",
   "mimetype": "text/x-python",
   "name": "python",
   "nbconvert_exporter": "python",
   "pygments_lexer": "ipython3",
   "version": "3.8.3"
  }
 },
 "nbformat": 4,
 "nbformat_minor": 4
}
